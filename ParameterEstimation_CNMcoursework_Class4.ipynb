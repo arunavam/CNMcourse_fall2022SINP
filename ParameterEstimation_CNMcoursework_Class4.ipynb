{
 "cells": [
  {
   "cell_type": "markdown",
   "id": "ecb97b03",
   "metadata": {},
   "source": [
    "# Point Estimators, Summarizing the Posterior Distributions, Credible Intervals in Bayesian Statistics (with example of Binomial Distributions of a 2-State problem)"
   ]
  },
  {
   "cell_type": "markdown",
   "id": "97107b04",
   "metadata": {},
   "source": [
    "### Pratical demonstration of computation of prior, likelihood and posterior distribution in Bayesian statistics for the CNM coursework in SINP during Fall 2022 by Arunava Mukherjee (12 September 2022, class 4)"
   ]
  },
  {
   "cell_type": "markdown",
   "id": "169048e2",
   "metadata": {},
   "source": [
    "#### \n",
    " *  This program is free software; you can redistribute it and/or modify\n",
    " *  it under the terms of the GNU General Public License as published by\n",
    " *  the Free Software Foundation; either version 2 of the License, or\n",
    " *  (at your option) any later version.\n",
    " *\n",
    " *  This program is distributed in the hope that it will be useful,\n",
    " *  but WITHOUT ANY WARRANTY; without even the implied warranty of\n",
    " *  MERCHANTABILITY or FITNESS FOR A PARTICULAR PURPOSE.  See the\n",
    " *  GNU General Public License for more details.\n",
    " *\n",
    " *  You should have received a copy of the GNU General Public License\n",
    " *  along with with program; see the file COPYING. If not, write to the\n",
    " *  Free Software Foundation, Inc., 59 Temple Place, Suite 330, Boston,\n",
    " *  MA  02111-1307  USA.\n",
    "\n",
    "**(c) Arunava Mukherjee, 2022**"
   ]
  },
  {
   "cell_type": "code",
   "execution_count": 1,
   "id": "4ec6f915",
   "metadata": {},
   "outputs": [],
   "source": [
    "import numpy as np\n",
    "import scipy as sp\n",
    "import matplotlib.pyplot as plt"
   ]
  },
  {
   "cell_type": "markdown",
   "id": "eec3a41e",
   "metadata": {},
   "source": [
    "#### Define a function for factorial of a number "
   ]
  },
  {
   "cell_type": "code",
   "execution_count": 2,
   "id": "6654413a",
   "metadata": {},
   "outputs": [],
   "source": [
    "def factorial(n):\n",
    "    factr = 1\n",
    "    for i in range(n):\n",
    "        factr *= (i+1)\n",
    "        \n",
    "    return factr"
   ]
  },
  {
   "cell_type": "code",
   "execution_count": 3,
   "id": "365decf3",
   "metadata": {},
   "outputs": [
    {
     "data": {
      "text/plain": [
       "120"
      ]
     },
     "execution_count": 3,
     "metadata": {},
     "output_type": "execute_result"
    }
   ],
   "source": [
    "n = 5\n",
    "factorial(n)"
   ]
  },
  {
   "cell_type": "markdown",
   "id": "f8e9ea8d",
   "metadata": {},
   "source": [
    "#### Define functions for permutations and combinations "
   ]
  },
  {
   "cell_type": "code",
   "execution_count": 4,
   "id": "74edf362",
   "metadata": {},
   "outputs": [],
   "source": [
    "def n_permn_r(n, r):\n",
    "    nPr = factorial(n)/factorial(n - r)\n",
    "    \n",
    "    return nPr\n",
    "\n",
    "def n_combn_r(n, r):\n",
    "    nCr = factorial(n)/(factorial(r) * factorial(n - r))\n",
    "    \n",
    "    return nCr"
   ]
  },
  {
   "cell_type": "code",
   "execution_count": 5,
   "id": "2a5b9838",
   "metadata": {},
   "outputs": [
    {
     "data": {
      "text/plain": [
       "10.0"
      ]
     },
     "execution_count": 5,
     "metadata": {},
     "output_type": "execute_result"
    }
   ],
   "source": [
    "n, r = 5, 2\n",
    "n_combn_r(n, r)"
   ]
  },
  {
   "cell_type": "markdown",
   "id": "c2c96ce2",
   "metadata": {},
   "source": [
    "### Define probability of binomial distribution"
   ]
  },
  {
   "cell_type": "code",
   "execution_count": 6,
   "id": "fee363b5",
   "metadata": {},
   "outputs": [],
   "source": [
    "def P_BinomialDist(N, X, theta):\n",
    "    #prob = n_combn_r(N, X) * (theta**X) * ((1.0 - theta)**(N - X))\n",
    "    prob = (theta**X) * ((1.0 - theta)**(N - X))\n",
    "    \n",
    "    return prob"
   ]
  },
  {
   "cell_type": "markdown",
   "id": "e8e7adad",
   "metadata": {},
   "source": [
    "#### Test it with a specific choice of `N`, `x` and parameter ($\\theta$)"
   ]
  },
  {
   "cell_type": "code",
   "execution_count": 7,
   "id": "88cdadf5",
   "metadata": {},
   "outputs": [],
   "source": [
    "N, X = 5, 2"
   ]
  },
  {
   "cell_type": "code",
   "execution_count": 8,
   "id": "e3c167c5",
   "metadata": {},
   "outputs": [
    {
     "data": {
      "text/plain": [
       "0.03456"
      ]
     },
     "execution_count": 8,
     "metadata": {},
     "output_type": "execute_result"
    }
   ],
   "source": [
    "theta = (X/N)\n",
    "P_BinomialDist(N, X, theta)"
   ]
  },
  {
   "cell_type": "code",
   "execution_count": 9,
   "id": "6150e448",
   "metadata": {},
   "outputs": [],
   "source": [
    "# save it as the true value\n",
    "theta_true = theta"
   ]
  },
  {
   "cell_type": "markdown",
   "id": "fa717622",
   "metadata": {},
   "source": [
    "### Define the set of all hypotheses ($H_i$) as different parameter ($\\theta$) values"
   ]
  },
  {
   "cell_type": "code",
   "execution_count": 10,
   "id": "1a3da8f2",
   "metadata": {},
   "outputs": [
    {
     "name": "stdout",
     "output_type": "stream",
     "text": [
      "Number of points are: 101\n"
     ]
    }
   ],
   "source": [
    "num_pts = 101    # (change this as needed!)\n",
    "print('Number of points are:', num_pts)"
   ]
  },
  {
   "cell_type": "code",
   "execution_count": 11,
   "id": "df06f253",
   "metadata": {},
   "outputs": [
    {
     "name": "stdout",
     "output_type": "stream",
     "text": [
      "theta values are:  [0.   0.01 0.02 0.03 0.04 0.05 0.06 0.07 0.08 0.09 0.1  0.11 0.12 0.13\n",
      " 0.14 0.15 0.16 0.17 0.18 0.19 0.2  0.21 0.22 0.23 0.24 0.25 0.26 0.27\n",
      " 0.28 0.29 0.3  0.31 0.32 0.33 0.34 0.35 0.36 0.37 0.38 0.39 0.4  0.41\n",
      " 0.42 0.43 0.44 0.45 0.46 0.47 0.48 0.49 0.5  0.51 0.52 0.53 0.54 0.55\n",
      " 0.56 0.57 0.58 0.59 0.6  0.61 0.62 0.63 0.64 0.65 0.66 0.67 0.68 0.69\n",
      " 0.7  0.71 0.72 0.73 0.74 0.75 0.76 0.77 0.78 0.79 0.8  0.81 0.82 0.83\n",
      " 0.84 0.85 0.86 0.87 0.88 0.89 0.9  0.91 0.92 0.93 0.94 0.95 0.96 0.97\n",
      " 0.98 0.99 1.  ]\n"
     ]
    }
   ],
   "source": [
    "theta_arr = np.linspace(0.0, 1.0, num_pts)\n",
    "print(r'theta values are: ', theta_arr)"
   ]
  },
  {
   "cell_type": "markdown",
   "id": "9bf0892c",
   "metadata": {},
   "source": [
    "### Define prior values for all the hypotheses ($P(\\theta)$)"
   ]
  },
  {
   "cell_type": "markdown",
   "id": "b4bfb94d",
   "metadata": {},
   "source": [
    "### Consider uniform (or flat) prior distribution"
   ]
  },
  {
   "cell_type": "code",
   "execution_count": 12,
   "id": "0edb65d9",
   "metadata": {},
   "outputs": [],
   "source": [
    "prior_arr = np.zeros_like(theta_arr) + (1.0/len(theta_arr))\n",
    "#print ('prior_arr :', prior_arr)"
   ]
  },
  {
   "cell_type": "markdown",
   "id": "64a90973",
   "metadata": {},
   "source": [
    "### Consider ''Emphasizing the intermediate\" prior distribution"
   ]
  },
  {
   "cell_type": "markdown",
   "id": "3705e8a1",
   "metadata": {},
   "source": [
    "prior_arr = np.zeros_like(theta_arr) + (theta_arr**0.5) * ((1.0 - theta_arr)**0.5)\n",
    "prior_norm = np.sum(prior_arr)\n",
    "prior_arr /= prior_norm\n",
    "#print ('prior_arr :', prior_arr)"
   ]
  },
  {
   "cell_type": "markdown",
   "id": "28407458",
   "metadata": {},
   "source": [
    "### Consider ''Emphasizing the Extremes\" prior distribution"
   ]
  },
  {
   "cell_type": "markdown",
   "id": "a986e6fa",
   "metadata": {},
   "source": [
    "idx = np.where((theta_arr > 0.0) & (theta_arr < 1.0))\n",
    "theta_arr = theta_arr[idx]\n",
    "#print('idx :', idx)\n",
    "\n",
    "prior_arr = (theta_arr**(-0.5)) * ((1.0 - theta_arr)**(-0.5))\n",
    "prior_norm = np.sum(prior_arr)\n",
    "prior_arr /= prior_norm\n",
    "#print ('prior_arr :', prior_arr)"
   ]
  },
  {
   "cell_type": "markdown",
   "id": "8698454c",
   "metadata": {},
   "source": [
    "### Consider informative prior distribution"
   ]
  },
  {
   "cell_type": "markdown",
   "id": "b8f6879e",
   "metadata": {},
   "source": [
    "#### Consider here $\\theta$ is known to be 0.5"
   ]
  },
  {
   "cell_type": "markdown",
   "id": "540db071",
   "metadata": {},
   "source": [
    "Success_prior, Unsuccess_prior = 100, 150    # correct guess\n",
    "#Success_prior, Unsuccess_prior = 100, 100    # incorrect guess\n",
    "prior_arr = np.zeros_like(theta_arr) + (theta_arr**Success_prior) * ((1.0 - theta_arr)**Unsuccess_prior)\n",
    "prior_norm = np.sum(prior_arr)\n",
    "prior_arr /= prior_norm\n",
    "#print ('prior_arr :', prior_arr)"
   ]
  },
  {
   "cell_type": "markdown",
   "id": "1e9da9fd",
   "metadata": {},
   "source": [
    "#### check the sum of all prior values"
   ]
  },
  {
   "cell_type": "code",
   "execution_count": 13,
   "id": "40616cc6",
   "metadata": {},
   "outputs": [
    {
     "name": "stdout",
     "output_type": "stream",
     "text": [
      "sum of all the prior values = 0.9999999999999999\n"
     ]
    }
   ],
   "source": [
    "sum_prior = np.sum(prior_arr)\n",
    "print ('sum of all the prior values =', sum_prior)"
   ]
  },
  {
   "cell_type": "markdown",
   "id": "8c3f5641",
   "metadata": {},
   "source": [
    "#### plot the prior distribution"
   ]
  },
  {
   "cell_type": "code",
   "execution_count": 14,
   "id": "0571bc8b",
   "metadata": {},
   "outputs": [
    {
     "data": {
      "text/plain": [
       "Text(0, 0.5, '$P(\\\\theta)$')"
      ]
     },
     "execution_count": 14,
     "metadata": {},
     "output_type": "execute_result"
    },
    {
     "data": {
      "image/png": "[encoded data removed]",
      "text/plain": [
       "<Figure size 432x288 with 1 Axes>"
      ]
     },
     "metadata": {
      "needs_background": "light"
     },
     "output_type": "display_data"
    }
   ],
   "source": [
    "plt.plot(theta_arr, prior_arr, 'ko')\n",
    "plt.xlabel(r'$\\theta$', fontsize=16)\n",
    "plt.ylabel(r'$P(\\theta)$', fontsize=16)"
   ]
  },
  {
   "cell_type": "markdown",
   "id": "5c927494",
   "metadata": {},
   "source": [
    "### Define likelihood for all the hypotheses ($P(D | \\theta)$)"
   ]
  },
  {
   "cell_type": "code",
   "execution_count": 15,
   "id": "5e6920b5",
   "metadata": {},
   "outputs": [],
   "source": [
    "likelihood_arr = np.zeros_like(theta_arr)    # initialize\n",
    "i = 0\n",
    "for theta in theta_arr:\n",
    "    likelihood_arr[i] = P_BinomialDist(N, X, theta)\n",
    "    i += 1\n",
    "    \n",
    "#print ('likelihood_arr:', likelihood_arr)"
   ]
  },
  {
   "cell_type": "markdown",
   "id": "06f4a2c2",
   "metadata": {},
   "source": [
    "#### check the sum of all likelihood values"
   ]
  },
  {
   "cell_type": "code",
   "execution_count": 16,
   "id": "357a209c",
   "metadata": {},
   "outputs": [
    {
     "name": "stdout",
     "output_type": "stream",
     "text": [
      "sum of all the likelihood values = 1.66666665\n"
     ]
    }
   ],
   "source": [
    "sum_likelihood = np.sum(likelihood_arr)\n",
    "print ('sum of all the likelihood values =', sum_likelihood)"
   ]
  },
  {
   "cell_type": "markdown",
   "id": "9c12d429",
   "metadata": {},
   "source": [
    "#### plot the likelihood distribution"
   ]
  },
  {
   "cell_type": "code",
   "execution_count": 17,
   "id": "0d3eeedd",
   "metadata": {},
   "outputs": [
    {
     "data": {
      "text/plain": [
       "Text(0, 0.5, '$P(D | \\\\theta)$')"
      ]
     },
     "execution_count": 17,
     "metadata": {},
     "output_type": "execute_result"
    },
    {
     "data": {
      "image/png": "[encoded data removed]",
      "text/plain": [
       "<Figure size 432x288 with 1 Axes>"
      ]
     },
     "metadata": {
      "needs_background": "light"
     },
     "output_type": "display_data"
    }
   ],
   "source": [
    "plt.plot(theta_arr, likelihood_arr, 'ro')\n",
    "plt.xlabel(r'$\\theta$', fontsize=16)\n",
    "plt.ylabel(r'$P(D | \\theta)$', fontsize=16)"
   ]
  },
  {
   "cell_type": "code",
   "execution_count": 18,
   "id": "d75e8c82",
   "metadata": {},
   "outputs": [
    {
     "name": "stdout",
     "output_type": "stream",
     "text": [
      "sum of all the likelihood values = 1.66666665\n"
     ]
    }
   ],
   "source": [
    "sum_likelihood = np.sum(likelihood_arr)\n",
    "print ('sum of all the likelihood values =', sum_likelihood)"
   ]
  },
  {
   "cell_type": "markdown",
   "id": "4757d278",
   "metadata": {},
   "source": [
    "### Define unnormalized posterior values ($h_i$) for all the hypotheses ($P(D | \\theta)$)"
   ]
  },
  {
   "cell_type": "code",
   "execution_count": 19,
   "id": "42ec564c",
   "metadata": {},
   "outputs": [],
   "source": [
    "h_arr = (prior_arr * likelihood_arr)\n",
    "#print ('Array of unnormalized posterior values (h_i) :', h_arr)"
   ]
  },
  {
   "cell_type": "markdown",
   "id": "e6cb6057",
   "metadata": {},
   "source": [
    "#### check the sum of all unnormalized posterior ($h_i = h(\\theta)$) values"
   ]
  },
  {
   "cell_type": "code",
   "execution_count": 20,
   "id": "df8c5e3f",
   "metadata": {},
   "outputs": [
    {
     "name": "stdout",
     "output_type": "stream",
     "text": [
      "sum of all the unnormalized posterior values = 0.016501649999999996\n"
     ]
    }
   ],
   "source": [
    "sum_h = np.sum(h_arr)\n",
    "print ('sum of all the unnormalized posterior values =', sum_h)"
   ]
  },
  {
   "cell_type": "markdown",
   "id": "332e5d9c",
   "metadata": {},
   "source": [
    "#### plot the unnormalized posterior ($h_i = h(\\theta)$) distribution"
   ]
  },
  {
   "cell_type": "code",
   "execution_count": 21,
   "id": "fad9bba9",
   "metadata": {},
   "outputs": [
    {
     "data": {
      "text/plain": [
       "Text(0, 0.5, '$h_i = h(\\\\theta)$')"
      ]
     },
     "execution_count": 21,
     "metadata": {},
     "output_type": "execute_result"
    },
    {
     "data": {
      "image/png": "[encoded data removed]",
      "text/plain": [
       "<Figure size 432x288 with 1 Axes>"
      ]
     },
     "metadata": {
      "needs_background": "light"
     },
     "output_type": "display_data"
    }
   ],
   "source": [
    "plt.plot(theta_arr, h_arr, 'go')\n",
    "plt.axvline(x = theta_true, color='k', label='True value')\n",
    "plt.xlabel(r'$\\theta$', fontsize=16)\n",
    "plt.ylabel(r'$h_i = h(\\theta)$', fontsize=16)"
   ]
  },
  {
   "cell_type": "markdown",
   "id": "ada4f9a5",
   "metadata": {},
   "source": [
    "### Define posterior values ($P(\\theta | D)$) for all the hypotheses"
   ]
  },
  {
   "cell_type": "code",
   "execution_count": 22,
   "id": "46e196bd",
   "metadata": {},
   "outputs": [],
   "source": [
    "posterior_arr = (h_arr/sum_h)\n",
    "#print ('array of posterior values :', posterior_arr)"
   ]
  },
  {
   "cell_type": "markdown",
   "id": "e8818cee",
   "metadata": {},
   "source": [
    "#### check the sum of all posterior values ($P(\\theta | D)$) for all the hypotheses"
   ]
  },
  {
   "cell_type": "code",
   "execution_count": 23,
   "id": "b5b4d807",
   "metadata": {},
   "outputs": [
    {
     "name": "stdout",
     "output_type": "stream",
     "text": [
      "sum of all the posterior values = 1.0000000000000002\n"
     ]
    }
   ],
   "source": [
    "sum_posterior = np.sum(posterior_arr)\n",
    "print ('sum of all the posterior values =', sum_posterior)"
   ]
  },
  {
   "cell_type": "markdown",
   "id": "13fab340",
   "metadata": {},
   "source": [
    "#### plot the posterior ($P(\\theta | D)$) distribution"
   ]
  },
  {
   "cell_type": "code",
   "execution_count": 24,
   "id": "7f007656",
   "metadata": {},
   "outputs": [
    {
     "data": {
      "text/plain": [
       "<matplotlib.legend.Legend at 0x7fde4417a070>"
      ]
     },
     "execution_count": 24,
     "metadata": {},
     "output_type": "execute_result"
    },
    {
     "data": {
      "image/png": "[encoded data removed]",
      "text/plain": [
       "<Figure size 432x288 with 1 Axes>"
      ]
     },
     "metadata": {
      "needs_background": "light"
     },
     "output_type": "display_data"
    }
   ],
   "source": [
    "plt.plot(theta_arr, posterior_arr, 'o')\n",
    "plt.plot(theta_arr, prior_arr, 'kx', label='prior')\n",
    "plt.axvline(x = theta_true, color='k', label='Initial guess')\n",
    "plt.xlabel(r'$\\theta$', fontsize=16)\n",
    "plt.ylabel(r'$P(\\theta | D)$', fontsize=16)\n",
    "plt.legend()"
   ]
  },
  {
   "cell_type": "markdown",
   "id": "0de4c8b6",
   "metadata": {},
   "source": [
    "### Check the data used for this problem: \n",
    "#### `N` : Number of trials, `X` : number of correct outcomes"
   ]
  },
  {
   "cell_type": "code",
   "execution_count": 25,
   "id": "58339f07",
   "metadata": {},
   "outputs": [
    {
     "name": "stdout",
     "output_type": "stream",
     "text": [
      "Number of trials (N) = 5, and number of correct outcomes (X) = 2, and true success probability (theta) = 0.4\n"
     ]
    }
   ],
   "source": [
    "print ('Number of trials (N) = %d, and number of correct outcomes (X) = %d, and true success probability (theta) = %g'%(N, X, theta_true))"
   ]
  },
  {
   "cell_type": "markdown",
   "id": "ce91d07f",
   "metadata": {},
   "source": [
    "### Plot the changes from prior to posterior probability distribution of theta"
   ]
  },
  {
   "cell_type": "code",
   "execution_count": 26,
   "id": "75bb4eda",
   "metadata": {},
   "outputs": [
    {
     "data": {
      "text/plain": [
       "<matplotlib.legend.Legend at 0x7fde4430cf40>"
      ]
     },
     "execution_count": 26,
     "metadata": {},
     "output_type": "execute_result"
    },
    {
     "data": {
      "image/png": "[encoded data removed]",
      "text/plain": [
       "<Figure size 432x288 with 1 Axes>"
      ]
     },
     "metadata": {
      "needs_background": "light"
     },
     "output_type": "display_data"
    }
   ],
   "source": [
    "theta_change_arr = (posterior_arr - prior_arr)\n",
    "plt.plot(theta_arr, theta_change_arr, 'o', color='purple', label='changes in theta prob')\n",
    "plt.axvline(x = theta_true, color='k', label='Initial guess')\n",
    "plt.xlabel(r'$\\theta$', fontsize=16)\n",
    "plt.ylabel(r'$P(\\theta | D) - P(\\theta)$', fontsize=16)\n",
    "plt.legend()"
   ]
  },
  {
   "cell_type": "markdown",
   "id": "ad652225",
   "metadata": {},
   "source": [
    "## Computing point estimates from posterior distributions samples "
   ]
  },
  {
   "cell_type": "markdown",
   "id": "76c6987c",
   "metadata": {},
   "source": [
    "#### computing mean"
   ]
  },
  {
   "cell_type": "code",
   "execution_count": 27,
   "id": "6285e0d0",
   "metadata": {},
   "outputs": [
    {
     "name": "stdout",
     "output_type": "stream",
     "text": [
      "posterior_mean = 0.42857144285571447\n"
     ]
    }
   ],
   "source": [
    "posterior_mean = np.sum(theta_arr * posterior_arr)\n",
    "print ('posterior_mean =', posterior_mean)"
   ]
  },
  {
   "cell_type": "markdown",
   "id": "7def3e90",
   "metadata": {},
   "source": [
    "#### computing mode"
   ]
  },
  {
   "cell_type": "code",
   "execution_count": 28,
   "id": "918e7bbb",
   "metadata": {},
   "outputs": [
    {
     "name": "stdout",
     "output_type": "stream",
     "text": [
      "idx_mode = (array([40]),)\n",
      "posterior_mode = [0.4]\n"
     ]
    }
   ],
   "source": [
    "idx_mode = np.where(posterior_arr == np.max(posterior_arr))\n",
    "print ('idx_mode =', idx_mode)\n",
    "posterior_mode = theta_arr[idx_mode]\n",
    "print ('posterior_mode =', posterior_mode)"
   ]
  },
  {
   "cell_type": "markdown",
   "id": "96c6bf5b",
   "metadata": {},
   "source": [
    "#### computing median"
   ]
  },
  {
   "cell_type": "code",
   "execution_count": 29,
   "id": "5b92f8fd",
   "metadata": {},
   "outputs": [
    {
     "name": "stdout",
     "output_type": "stream",
     "text": [
      "idx_median = (array([42]),)\n",
      "posterior_median = [0.42]\n"
     ]
    }
   ],
   "source": [
    "posterior_cdf = np.cumsum(posterior_arr)\n",
    "dist = abs(posterior_cdf - 0.5)\n",
    "idx_median = np.where(dist == np.min(dist))\n",
    "print ('idx_median =', idx_median)\n",
    "\n",
    "posterior_median = theta_arr[idx_median]\n",
    "print ('posterior_median =', posterior_median)"
   ]
  },
  {
   "cell_type": "markdown",
   "id": "543a8c39",
   "metadata": {},
   "source": [
    "### Computing Credible interval"
   ]
  },
  {
   "cell_type": "markdown",
   "id": "aa7d2c62",
   "metadata": {},
   "source": [
    "#### computing credible interval [a, b] for the value $\\alpha$"
   ]
  },
  {
   "cell_type": "code",
   "execution_count": 30,
   "id": "0ed12fdc",
   "metadata": {},
   "outputs": [
    {
     "name": "stdout",
     "output_type": "stream",
     "text": [
      "lower cdf = 0.05, and upper cdf = 0.95 for credible interval of 90%.\n"
     ]
    }
   ],
   "source": [
    "alpha = 0.9    # for 90% credible interval\n",
    "lower_cdf = (1.0 - alpha)/2.0\n",
    "upper_cdf = (1.0 - lower_cdf)\n",
    "\n",
    "print ('lower cdf = %g, and upper cdf = %g for credible interval of %g%%.'%(lower_cdf, upper_cdf, (alpha*100.0)))"
   ]
  },
  {
   "cell_type": "code",
   "execution_count": 31,
   "id": "d35a22d9",
   "metadata": {},
   "outputs": [
    {
     "name": "stdout",
     "output_type": "stream",
     "text": [
      "The required confidence interval is: theta = [0.15, 0.72]\n"
     ]
    }
   ],
   "source": [
    "# find lower bound (a)\n",
    "dist_low = abs(posterior_cdf - lower_cdf)\n",
    "idx_lower_cdf = np.where(dist_low == np.min(dist_low))\n",
    "#print ('idx_lower_cdf =', idx_lower_cdf)\n",
    "theta_a = theta_arr[idx_lower_cdf]\n",
    "\n",
    "# find lower bound (b)\n",
    "dist_up = abs(posterior_cdf - upper_cdf)\n",
    "idx_upper_cdf = np.where(dist_up == np.min(dist_up))\n",
    "#print ('idx_upper_cdf =', idx_upper_cdf)\n",
    "theta_b = theta_arr[idx_upper_cdf]\n",
    "\n",
    "print ('The required confidence interval is: theta = [%g, %g]'%(theta_a, theta_b))"
   ]
  },
  {
   "cell_type": "markdown",
   "id": "f332bb89",
   "metadata": {},
   "source": [
    "#### plot the credible interval of the parameter ($\\theta$) in posterior distribution"
   ]
  },
  {
   "cell_type": "code",
   "execution_count": 32,
   "id": "73363fe0",
   "metadata": {},
   "outputs": [
    {
     "data": {
      "text/plain": [
       "<matplotlib.legend.Legend at 0x7fde444c1250>"
      ]
     },
     "execution_count": 32,
     "metadata": {},
     "output_type": "execute_result"
    },
    {
     "data": {
      "image/png": "[encoded data removed]",
      "text/plain": [
       "<Figure size 720x576 with 1 Axes>"
      ]
     },
     "metadata": {
      "needs_background": "light"
     },
     "output_type": "display_data"
    }
   ],
   "source": [
    "plt.figure(figsize=(10, 8))\n",
    "plt.plot(theta_arr, posterior_arr, 'o')\n",
    "plt.axvline(x = theta_a, color='b', linestyle='--', label='5 percentile cdf')\n",
    "plt.axvline(x = theta_b, color='b', linestyle='--', label='95 percentile cdf')\n",
    "plt.axvline(x = theta_true, color='k', label='Initial guess')\n",
    "plt.xlabel(r'$\\theta$', fontsize=16)\n",
    "plt.ylabel(r'$P(\\theta | D)$', fontsize=16)\n",
    "plt.legend(fontsize=14)"
   ]
  },
  {
   "cell_type": "code",
   "execution_count": 33,
   "id": "e85347e8",
   "metadata": {},
   "outputs": [
    {
     "data": {
      "text/plain": [
       "<matplotlib.legend.Legend at 0x7fde444f38e0>"
      ]
     },
     "execution_count": 33,
     "metadata": {},
     "output_type": "execute_result"
    },
    {
     "data": {
      "image/png": "[encoded data removed]",
      "text/plain": [
       "<Figure size 720x576 with 1 Axes>"
      ]
     },
     "metadata": {
      "needs_background": "light"
     },
     "output_type": "display_data"
    }
   ],
   "source": [
    "post_top = np.max(posterior_arr)\n",
    "theta_Yarr = np.linspace(0.0, post_top, 100)\n",
    "theta_a_vline = theta_a + np.zeros(len(theta_Yarr))\n",
    "theta_b_vline = theta_b + np.zeros(len(theta_Yarr))\n",
    "\n",
    "plt.figure(figsize=(10, 8))\n",
    "plt.plot(theta_arr, posterior_arr, 'o')\n",
    "plt.fill_betweenx(theta_Yarr, theta_a_vline, theta_b_vline, color='g', alpha=0.25, label='%g%% credible interval'%(100.0 * alpha))\n",
    "plt.axvline(x = theta_true, color='k', label='Initial guess')\n",
    "plt.xlabel(r'$\\theta$', fontsize=16)\n",
    "plt.ylabel(r'$P(\\theta | D)$', fontsize=16)\n",
    "plt.legend(fontsize=14)"
   ]
  },
  {
   "cell_type": "code",
   "execution_count": null,
   "id": "9eb52acc",
   "metadata": {},
   "outputs": [],
   "source": []
  }
 ],
 "metadata": {
  "kernelspec": {
   "display_name": "Python [conda env:root] *",
   "language": "python",
   "name": "conda-root-py"
  },
  "language_info": {
   "codemirror_mode": {
    "name": "ipython",
    "version": 3
   },
   "file_extension": ".py",
   "mimetype": "text/x-python",
   "name": "python",
   "nbconvert_exporter": "python",
   "pygments_lexer": "ipython3",
   "version": "3.9.7"
  }
 },
 "nbformat": 4,
 "nbformat_minor": 5
}
