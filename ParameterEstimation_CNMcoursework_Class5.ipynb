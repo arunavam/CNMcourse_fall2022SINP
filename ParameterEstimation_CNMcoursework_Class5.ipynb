{
 "cells": [
  {
   "cell_type": "markdown",
   "id": "ecb97b03",
   "metadata": {},
   "source": [
    "# Hypothesis Testing and Model Selection in Bayesian Statistics (with example of a Normal Distribution)"
   ]
  },
  {
   "cell_type": "markdown",
   "id": "97107b04",
   "metadata": {},
   "source": [
    "### Pratical demonstration of hypothesis testing and model selection in Bayesian statistics for the CNM coursework in SINP during Fall 2022 by Arunava Mukherjee (19 Spetember 2022, class 5)"
   ]
  },
  {
   "cell_type": "markdown",
   "id": "169048e2",
   "metadata": {},
   "source": [
    "#### \n",
    " *  This program is free software; you can redistribute it and/or modify\n",
    " *  it under the terms of the GNU General Public License as published by\n",
    " *  the Free Software Foundation; either version 2 of the License, or\n",
    " *  (at your option) any later version.\n",
    " *\n",
    " *  This program is distributed in the hope that it will be useful,\n",
    " *  but WITHOUT ANY WARRANTY; without even the implied warranty of\n",
    " *  MERCHANTABILITY or FITNESS FOR A PARTICULAR PURPOSE.  See the\n",
    " *  GNU General Public License for more details.\n",
    " *\n",
    " *  You should have received a copy of the GNU General Public License\n",
    " *  along with with program; see the file COPYING. If not, write to the\n",
    " *  Free Software Foundation, Inc., 59 Temple Place, Suite 330, Boston,\n",
    " *  MA  02111-1307  USA.\n",
    "\n",
    "**(c) Arunava Mukherjee, 2022**"
   ]
  },
  {
   "cell_type": "code",
   "execution_count": 1,
   "id": "4ec6f915",
   "metadata": {},
   "outputs": [],
   "source": [
    "import numpy as np\n",
    "import scipy as sp\n",
    "from scipy.stats import norm\n",
    "import matplotlib.pyplot as plt"
   ]
  },
  {
   "cell_type": "markdown",
   "id": "c2c96ce2",
   "metadata": {},
   "source": [
    "#### Define probability of Gaussian distribution"
   ]
  },
  {
   "cell_type": "code",
   "execution_count": 2,
   "id": "fee363b5",
   "metadata": {},
   "outputs": [],
   "source": [
    "def Prob_Gaussian(mean, var, theta):\n",
    "    prob = norm(mean, var).pdf(theta)\n",
    "    \n",
    "    return prob"
   ]
  },
  {
   "cell_type": "markdown",
   "id": "e8e7adad",
   "metadata": {},
   "source": [
    "### Define theoretical likelihood model for the hypothesis"
   ]
  },
  {
   "cell_type": "code",
   "execution_count": 3,
   "id": "88cdadf5",
   "metadata": {},
   "outputs": [],
   "source": [
    "mean, var = 120.0, 10.0"
   ]
  },
  {
   "cell_type": "markdown",
   "id": "fd47b6b2",
   "metadata": {},
   "source": [
    "#### define the observed value for the data"
   ]
  },
  {
   "cell_type": "code",
   "execution_count": 4,
   "id": "b514e6de",
   "metadata": {},
   "outputs": [],
   "source": [
    "data = 114.6"
   ]
  },
  {
   "cell_type": "code",
   "execution_count": 5,
   "id": "e3c167c5",
   "metadata": {},
   "outputs": [
    {
     "data": {
      "text/plain": [
       "0.03448180014393333"
      ]
     },
     "execution_count": 5,
     "metadata": {},
     "output_type": "execute_result"
    }
   ],
   "source": [
    "Prob_Gaussian(mean, var, data)"
   ]
  },
  {
   "cell_type": "code",
   "execution_count": 6,
   "id": "6150e448",
   "metadata": {},
   "outputs": [],
   "source": [
    "# save it as the true value\n",
    "theta_true = data"
   ]
  },
  {
   "cell_type": "markdown",
   "id": "fa717622",
   "metadata": {},
   "source": [
    "### Define the likelihood function for different parameter ($\\theta$) values"
   ]
  },
  {
   "cell_type": "code",
   "execution_count": 7,
   "id": "1a3da8f2",
   "metadata": {},
   "outputs": [
    {
     "name": "stdout",
     "output_type": "stream",
     "text": [
      "Number of points are: 11\n"
     ]
    }
   ],
   "source": [
    "num_pts = 11    # (change this as needed!)\n",
    "print('Number of points are:', num_pts)"
   ]
  },
  {
   "cell_type": "code",
   "execution_count": 8,
   "id": "df06f253",
   "metadata": {},
   "outputs": [
    {
     "name": "stdout",
     "output_type": "stream",
     "text": [
      "theta values are:  [110. 111. 112. 113. 114. 115. 116. 117. 118. 119. 120.]\n"
     ]
    }
   ],
   "source": [
    "theta_arr = np.linspace(110.0, 120.0, num_pts)\n",
    "print(r'theta values are: ', theta_arr)"
   ]
  },
  {
   "cell_type": "markdown",
   "id": "9bf0892c",
   "metadata": {},
   "source": [
    "### Define prior values for all the hypotheses ($P(\\theta)$)"
   ]
  },
  {
   "cell_type": "markdown",
   "id": "b4bfb94d",
   "metadata": {},
   "source": [
    "### Set tesing prior distribution"
   ]
  },
  {
   "cell_type": "code",
   "execution_count": 9,
   "id": "0edb65d9",
   "metadata": {},
   "outputs": [
    {
     "name": "stdout",
     "output_type": "stream",
     "text": [
      "prior_arr : [0.05 0.05 0.05 0.05 0.05 0.05 0.05 0.05 0.05 0.05 0.5 ]\n"
     ]
    }
   ],
   "source": [
    "# use prior suitable for hypothesis testing\n",
    "prior_arr = np.zeros_like(theta_arr) + (0.5/(len(theta_arr)-1))\n",
    "prior_arr[-1] = 0.5    # testing prior\n",
    "\n",
    "# use flat prior\n",
    "#prior_arr = np.zeros_like(theta_arr) + (1.0/len(theta_arr))\n",
    "\n",
    "print ('prior_arr :', prior_arr)"
   ]
  },
  {
   "cell_type": "markdown",
   "id": "1e9da9fd",
   "metadata": {},
   "source": [
    "#### check the sum of all prior values"
   ]
  },
  {
   "cell_type": "code",
   "execution_count": 10,
   "id": "40616cc6",
   "metadata": {},
   "outputs": [
    {
     "name": "stdout",
     "output_type": "stream",
     "text": [
      "sum of all the prior values = 1.0\n"
     ]
    }
   ],
   "source": [
    "sum_prior = np.sum(prior_arr)\n",
    "print ('sum of all the prior values =', sum_prior)"
   ]
  },
  {
   "cell_type": "markdown",
   "id": "8c3f5641",
   "metadata": {},
   "source": [
    "#### plot the prior distribution"
   ]
  },
  {
   "cell_type": "code",
   "execution_count": 11,
   "id": "0571bc8b",
   "metadata": {},
   "outputs": [
    {
     "data": {
      "text/plain": [
       "Text(0, 0.5, '$P(\\\\theta)$')"
      ]
     },
     "execution_count": 11,
     "metadata": {},
     "output_type": "execute_result"
    },
    {
     "data": {
      "image/png": "[encoded data removed]",
      "text/plain": [
       "<Figure size 432x288 with 1 Axes>"
      ]
     },
     "metadata": {
      "needs_background": "light"
     },
     "output_type": "display_data"
    }
   ],
   "source": [
    "plt.plot(theta_arr, prior_arr, 'ko')\n",
    "plt.xlabel(r'$\\theta$', fontsize=16)\n",
    "plt.ylabel(r'$P(\\theta)$', fontsize=16)"
   ]
  },
  {
   "cell_type": "markdown",
   "id": "5c927494",
   "metadata": {},
   "source": [
    "### Define likelihood for all the hypotheses ($P(D | \\theta)$)"
   ]
  },
  {
   "cell_type": "code",
   "execution_count": 12,
   "id": "5e6920b5",
   "metadata": {},
   "outputs": [
    {
     "name": "stdout",
     "output_type": "stream",
     "text": [
      "likelihood distribution for 1 sample: [0.03588903 0.03739106 0.03856834 0.03938684 0.03982248 0.03986233\n",
      " 0.03950517 0.03876166 0.03765372 0.03621349 0.0344818 ]\n"
     ]
    }
   ],
   "source": [
    "likelihood_1sample_arr = np.zeros_like(theta_arr)    # initialize\n",
    "i = 0\n",
    "for theta in theta_arr:\n",
    "    likelihood_1sample_arr[i] = Prob_Gaussian(theta, var, data)\n",
    "    i += 1\n",
    "    \n",
    "print ('likelihood distribution for 1 sample:', likelihood_1sample_arr)"
   ]
  },
  {
   "cell_type": "markdown",
   "id": "a8d50853",
   "metadata": {},
   "source": [
    "#### Now multiply the likelihood for `N` samples"
   ]
  },
  {
   "cell_type": "code",
   "execution_count": 13,
   "id": "8e0a8d9e",
   "metadata": {},
   "outputs": [
    {
     "name": "stdout",
     "output_type": "stream",
     "text": [
      "likelihood distribution for N-samples: [2.75364493e-05 1.66155727e-03 3.68831674e-02 3.01194212e-01\n",
      " 9.04837418e-01 1.00000000e+00 4.06569660e-01 6.08100626e-02\n",
      " 3.34596546e-03 6.77287365e-05 5.04347663e-07]\n"
     ]
    }
   ],
   "source": [
    "num_sample = 100    # (*** change it to see the effect ***)\n",
    "\n",
    "log_likelihood_1sample_arr = np.log(likelihood_1sample_arr)\n",
    "\n",
    "log_likelihood_arr = 1.0   # initialization\n",
    "\n",
    "for i_sample in range(num_sample):\n",
    "    log_likelihood_arr += log_likelihood_1sample_arr\n",
    "    \n",
    "likelihood_arr = np.exp(log_likelihood_arr)\n",
    "likelihood_arr = (likelihood_arr/np.max(likelihood_arr))\n",
    "\n",
    "print ('likelihood distribution for N-samples:', likelihood_arr)"
   ]
  },
  {
   "cell_type": "markdown",
   "id": "06f4a2c2",
   "metadata": {},
   "source": [
    "#### check the sum of all likelihood values"
   ]
  },
  {
   "cell_type": "code",
   "execution_count": 14,
   "id": "357a209c",
   "metadata": {},
   "outputs": [
    {
     "name": "stdout",
     "output_type": "stream",
     "text": [
      "sum of all the likelihood values = 2.715397811979129\n"
     ]
    }
   ],
   "source": [
    "sum_likelihood = np.sum(likelihood_arr)\n",
    "print ('sum of all the likelihood values =', sum_likelihood)"
   ]
  },
  {
   "cell_type": "markdown",
   "id": "9c12d429",
   "metadata": {},
   "source": [
    "#### plot the likelihood distribution"
   ]
  },
  {
   "cell_type": "code",
   "execution_count": 15,
   "id": "0d3eeedd",
   "metadata": {},
   "outputs": [
    {
     "data": {
      "text/plain": [
       "Text(0, 0.5, '$P(D | \\\\theta)$')"
      ]
     },
     "execution_count": 15,
     "metadata": {},
     "output_type": "execute_result"
    },
    {
     "data": {
      "image/png": "[encoded data removed]",
      "text/plain": [
       "<Figure size 432x288 with 1 Axes>"
      ]
     },
     "metadata": {
      "needs_background": "light"
     },
     "output_type": "display_data"
    }
   ],
   "source": [
    "plt.plot(theta_arr, likelihood_arr, 'ro')\n",
    "plt.xlabel(r'$\\theta$', fontsize=16)\n",
    "plt.ylabel(r'$P(D | \\theta)$', fontsize=16)"
   ]
  },
  {
   "cell_type": "markdown",
   "id": "4757d278",
   "metadata": {},
   "source": [
    "### Define unnormalized posterior values ($h_i$) for all the hypotheses ($P(D | \\theta)$)"
   ]
  },
  {
   "cell_type": "code",
   "execution_count": 16,
   "id": "42ec564c",
   "metadata": {},
   "outputs": [],
   "source": [
    "h_arr = (prior_arr * likelihood_arr)\n",
    "#print ('Array of unnormalized posterior values (h_i) :', h_arr)"
   ]
  },
  {
   "cell_type": "markdown",
   "id": "e6cb6057",
   "metadata": {},
   "source": [
    "#### check the sum of all unnormalized posterior ($h_i = h(\\theta)$) values"
   ]
  },
  {
   "cell_type": "code",
   "execution_count": 17,
   "id": "df8c5e3f",
   "metadata": {},
   "outputs": [
    {
     "name": "stdout",
     "output_type": "stream",
     "text": [
      "sum of all the unnormalized posterior values = 0.13577011755540463\n"
     ]
    }
   ],
   "source": [
    "sum_h = np.sum(h_arr)\n",
    "print ('sum of all the unnormalized posterior values =', sum_h)"
   ]
  },
  {
   "cell_type": "markdown",
   "id": "332e5d9c",
   "metadata": {},
   "source": [
    "#### plot the unnormalized posterior ($h_i = h(\\theta)$) distribution"
   ]
  },
  {
   "cell_type": "code",
   "execution_count": 18,
   "id": "fad9bba9",
   "metadata": {},
   "outputs": [
    {
     "name": "stderr",
     "output_type": "stream",
     "text": [
      "No handles with labels found to put in legend.\n"
     ]
    },
    {
     "data": {
      "text/plain": [
       "<matplotlib.legend.Legend at 0x7fd547fd1e80>"
      ]
     },
     "execution_count": 18,
     "metadata": {},
     "output_type": "execute_result"
    },
    {
     "data": {
      "image/png": "[encoded data removed]",
      "text/plain": [
       "<Figure size 432x288 with 1 Axes>"
      ]
     },
     "metadata": {
      "needs_background": "light"
     },
     "output_type": "display_data"
    }
   ],
   "source": [
    "plt.plot(theta_arr, h_arr, 'go')\n",
    "#plt.axvline(x = theta_true, color='k', label='Observed value')\n",
    "plt.xlabel(r'$\\theta$', fontsize=16)\n",
    "plt.ylabel(r'$h_i = h(\\theta)$', fontsize=16)\n",
    "plt.legend()"
   ]
  },
  {
   "cell_type": "markdown",
   "id": "ada4f9a5",
   "metadata": {},
   "source": [
    "### Define posterior values ($P(\\theta | D)$) for all the hypotheses"
   ]
  },
  {
   "cell_type": "code",
   "execution_count": 19,
   "id": "46e196bd",
   "metadata": {},
   "outputs": [
    {
     "name": "stdout",
     "output_type": "stream",
     "text": [
      "array of posterior values : [1.01408358e-05 6.11900948e-04 1.35829474e-02 1.10920657e-01\n",
      " 3.33224068e-01 3.68269549e-01 1.49727225e-01 2.23944944e-02\n",
      " 1.23221719e-03 2.49424313e-05 1.85735886e-06]\n"
     ]
    }
   ],
   "source": [
    "posterior_arr = (h_arr/sum_h)\n",
    "print ('array of posterior values :', posterior_arr)"
   ]
  },
  {
   "cell_type": "markdown",
   "id": "f021b831",
   "metadata": {},
   "source": [
    "### get the posterior probability for the hypotheses ($H_0$, $H_1$)"
   ]
  },
  {
   "cell_type": "code",
   "execution_count": 20,
   "id": "b13bc9b4",
   "metadata": {},
   "outputs": [],
   "source": [
    "posterior_H0 = posterior_arr[-1]\n",
    "posterior_H1 = np.sum(posterior_arr[:-1])"
   ]
  },
  {
   "cell_type": "markdown",
   "id": "e8818cee",
   "metadata": {},
   "source": [
    "#### check the sum of all posterior values ($P(\\theta | D)$) for all the hypotheses"
   ]
  },
  {
   "cell_type": "code",
   "execution_count": 21,
   "id": "b5b4d807",
   "metadata": {},
   "outputs": [
    {
     "name": "stdout",
     "output_type": "stream",
     "text": [
      "sum of all the posterior values = 0.9999999999999999\n"
     ]
    }
   ],
   "source": [
    "sum_posterior = np.sum(posterior_arr)\n",
    "print ('sum of all the posterior values =', sum_posterior)"
   ]
  },
  {
   "cell_type": "markdown",
   "id": "13fab340",
   "metadata": {},
   "source": [
    "#### plot the posterior ($P(\\theta | D)$) distribution"
   ]
  },
  {
   "cell_type": "code",
   "execution_count": 22,
   "id": "7f007656",
   "metadata": {},
   "outputs": [
    {
     "data": {
      "text/plain": [
       "<matplotlib.legend.Legend at 0x7fd548a372e0>"
      ]
     },
     "execution_count": 22,
     "metadata": {},
     "output_type": "execute_result"
    },
    {
     "data": {
      "image/png": "[encoded data removed]",
      "text/plain": [
       "<Figure size 432x288 with 1 Axes>"
      ]
     },
     "metadata": {
      "needs_background": "light"
     },
     "output_type": "display_data"
    }
   ],
   "source": [
    "plt.plot(theta_arr, posterior_arr, 'o', label='posterior')\n",
    "#plt.plot(theta_arr, prior_arr, 'kx', label='prior')    # check prior distribution\n",
    "plt.axvline(x = theta_true, color='k', label='data')\n",
    "plt.xlabel(r'$\\theta$', fontsize=16)\n",
    "plt.ylabel(r'$P(\\theta | D)$', fontsize=16)\n",
    "plt.legend()"
   ]
  },
  {
   "cell_type": "markdown",
   "id": "0de4c8b6",
   "metadata": {},
   "source": [
    "### Check the data used for this problem: \n",
    "#### `N` : Number of samples, `data` : mean of the distribution"
   ]
  },
  {
   "cell_type": "code",
   "execution_count": 23,
   "id": "58339f07",
   "metadata": {},
   "outputs": [
    {
     "name": "stdout",
     "output_type": "stream",
     "text": [
      "Number of samples (N) = 100, and the mean of sample (data) = 114.6\n"
     ]
    }
   ],
   "source": [
    "print ('Number of samples (N) = %d, and the mean of sample (data) = %g'%(num_sample, data))"
   ]
  },
  {
   "cell_type": "code",
   "execution_count": 24,
   "id": "5168ce0f",
   "metadata": {},
   "outputs": [
    {
     "name": "stdout",
     "output_type": "stream",
     "text": [
      "Probability of null hypothesis being correct (i.e., theta = 120) P(H0) = 1.85736e-06\n"
     ]
    }
   ],
   "source": [
    "print ('Probability of null hypothesis being correct (i.e., theta = %g) P(H0) = %g'%(mean, posterior_H0))"
   ]
  },
  {
   "cell_type": "code",
   "execution_count": 25,
   "id": "c663ffaf",
   "metadata": {},
   "outputs": [
    {
     "name": "stdout",
     "output_type": "stream",
     "text": [
      "Probability of alternate hypothesis being correct (i.e., theta < 120) P(H1) = 0.9999981426\n"
     ]
    }
   ],
   "source": [
    "print ('Probability of alternate hypothesis being correct (i.e., theta < %g) P(H1) = %12.10g'%(mean, posterior_H1))"
   ]
  },
  {
   "cell_type": "markdown",
   "id": "54f89f26",
   "metadata": {},
   "source": [
    "### Estimate Odds-ratio"
   ]
  },
  {
   "cell_type": "markdown",
   "id": "37d47b95",
   "metadata": {},
   "source": [
    "#### Compute posterior odds for (H0/H1)"
   ]
  },
  {
   "cell_type": "code",
   "execution_count": 26,
   "id": "ab4bef8c",
   "metadata": {},
   "outputs": [
    {
     "name": "stdout",
     "output_type": "stream",
     "text": [
      "Odds-ratio for (H0/H1) = 538397.9165892182\n"
     ]
    }
   ],
   "source": [
    "OddsRatio_H1overH0 = (posterior_H1/posterior_H0)\n",
    "print ('Odds-ratio for (H0/H1) =', OddsRatio_H1overH0)"
   ]
  },
  {
   "cell_type": "markdown",
   "id": "d5aee4a9",
   "metadata": {},
   "source": [
    "#### compute prior odds"
   ]
  },
  {
   "cell_type": "code",
   "execution_count": 27,
   "id": "b9f1511e",
   "metadata": {},
   "outputs": [],
   "source": [
    "prior_H0 = prior_arr[-1]\n",
    "prior_H1 = np.sum(prior_arr[:-1])"
   ]
  },
  {
   "cell_type": "code",
   "execution_count": 28,
   "id": "88b25bd6",
   "metadata": {},
   "outputs": [
    {
     "name": "stdout",
     "output_type": "stream",
     "text": [
      "Prior odds for (H0/H1) = 1.0\n"
     ]
    }
   ],
   "source": [
    "priorOdds_H0_H1 = (prior_H0/prior_H1)\n",
    "print ('Prior odds for (H0/H1) =', priorOdds_H0_H1)"
   ]
  },
  {
   "cell_type": "markdown",
   "id": "3a50e20b",
   "metadata": {},
   "source": [
    "### Compute Bayes' factor"
   ]
  },
  {
   "cell_type": "markdown",
   "id": "d04d04e9",
   "metadata": {},
   "source": [
    "#### note that likelihood of $H_0$ imples marginal likelihood of all values of theta consistent with the hypothesis $H_0$"
   ]
  },
  {
   "cell_type": "code",
   "execution_count": 29,
   "id": "1f69db03",
   "metadata": {},
   "outputs": [],
   "source": [
    "likelihood_H0 = likelihood_arr[-1]\n",
    "likelihood_H1 = np.sum(prior_arr[:-1] * likelihood_arr[:-1])/np.sum(prior_arr[:-1])"
   ]
  },
  {
   "cell_type": "code",
   "execution_count": 30,
   "id": "29816ef6",
   "metadata": {},
   "outputs": [
    {
     "name": "stdout",
     "output_type": "stream",
     "text": [
      "Bayes factor for (H1/H0) = 538397.9165892183\n"
     ]
    }
   ],
   "source": [
    "BayesFactor_H1overH0 = (likelihood_H1/likelihood_H0)\n",
    "print ('Bayes factor for (H1/H0) =', BayesFactor_H1overH0)"
   ]
  },
  {
   "cell_type": "code",
   "execution_count": null,
   "id": "61d9d605",
   "metadata": {},
   "outputs": [],
   "source": []
  }
 ],
 "metadata": {
  "kernelspec": {
   "display_name": "Python [conda env:root] *",
   "language": "python",
   "name": "conda-root-py"
  },
  "language_info": {
   "codemirror_mode": {
    "name": "ipython",
    "version": 3
   },
   "file_extension": ".py",
   "mimetype": "text/x-python",
   "name": "python",
   "nbconvert_exporter": "python",
   "pygments_lexer": "ipython3",
   "version": "3.9.7"
  }
 },
 "nbformat": 4,
 "nbformat_minor": 5
}
