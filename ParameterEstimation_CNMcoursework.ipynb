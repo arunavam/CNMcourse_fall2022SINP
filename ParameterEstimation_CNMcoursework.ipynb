{
 "cells": [
  {
   "cell_type": "markdown",
   "id": "ecb97b03",
   "metadata": {},
   "source": [
    "# Computing Binomial Distributions to Estimate Likelihood Distribution for a 2-State problem"
   ]
  },
  {
   "cell_type": "markdown",
   "id": "97107b04",
   "metadata": {},
   "source": [
    "### Pratical demonstratoin of computation of prior, likelihood and posterior distribution in Bayesian statistics for the CNM coursework in SINP during Fall 2022 by Arunava Mukherjee (class 2, 29 August 2022)"
   ]
  },
  {
   "cell_type": "markdown",
   "id": "b0580fa6",
   "metadata": {},
   "source": [
    "#### \n",
    " *  This program is free software; you can redistribute it and/or modify\n",
    " *  it under the terms of the GNU General Public License as published by\n",
    " *  the Free Software Foundation; either version 2 of the License, or\n",
    " *  (at your option) any later version.\n",
    " *\n",
    " *  This program is distributed in the hope that it will be useful,\n",
    " *  but WITHOUT ANY WARRANTY; without even the implied warranty of\n",
    " *  MERCHANTABILITY or FITNESS FOR A PARTICULAR PURPOSE.  See the\n",
    " *  GNU General Public License for more details.\n",
    " *\n",
    " *  You should have received a copy of the GNU General Public License\n",
    " *  along with with program; see the file COPYING. If not, write to the\n",
    " *  Free Software Foundation, Inc., 59 Temple Place, Suite 330, Boston,\n",
    " *  MA  02111-1307  USA.\n",
    "\n",
    "**(c) Arunava Mukherjee, 2022**"
   ]
  },
  {
   "cell_type": "code",
   "execution_count": 1,
   "id": "4ec6f915",
   "metadata": {},
   "outputs": [],
   "source": [
    "import numpy as np\n",
    "import scipy as sp\n",
    "import matplotlib.pyplot as plt"
   ]
  },
  {
   "cell_type": "markdown",
   "id": "eec3a41e",
   "metadata": {},
   "source": [
    "#### Define a function for factorial of a number "
   ]
  },
  {
   "cell_type": "code",
   "execution_count": 2,
   "id": "6654413a",
   "metadata": {},
   "outputs": [],
   "source": [
    "def factorial(n):\n",
    "    factr = 1\n",
    "    for i in range(n):\n",
    "        factr *= (i+1)\n",
    "        \n",
    "    return factr"
   ]
  },
  {
   "cell_type": "code",
   "execution_count": 3,
   "id": "365decf3",
   "metadata": {},
   "outputs": [
    {
     "data": {
      "text/plain": [
       "120"
      ]
     },
     "execution_count": 3,
     "metadata": {},
     "output_type": "execute_result"
    }
   ],
   "source": [
    "n = 5\n",
    "factorial(n)"
   ]
  },
  {
   "cell_type": "markdown",
   "id": "f8e9ea8d",
   "metadata": {},
   "source": [
    "#### Define functions for permutations and combinations "
   ]
  },
  {
   "cell_type": "code",
   "execution_count": 4,
   "id": "74edf362",
   "metadata": {},
   "outputs": [],
   "source": [
    "def n_permn_r(n, r):\n",
    "    nPr = factorial(n)/factorial(n - r)\n",
    "    \n",
    "    return nPr\n",
    "\n",
    "def n_combn_r(n, r):\n",
    "    nCr = factorial(n)/(factorial(r) * factorial(n - r))\n",
    "    \n",
    "    return nCr"
   ]
  },
  {
   "cell_type": "code",
   "execution_count": 5,
   "id": "2a5b9838",
   "metadata": {},
   "outputs": [
    {
     "data": {
      "text/plain": [
       "10.0"
      ]
     },
     "execution_count": 5,
     "metadata": {},
     "output_type": "execute_result"
    }
   ],
   "source": [
    "n, r = 5, 2\n",
    "n_combn_r(n, r)"
   ]
  },
  {
   "cell_type": "markdown",
   "id": "c2c96ce2",
   "metadata": {},
   "source": [
    "### Define probability of binomial distribution"
   ]
  },
  {
   "cell_type": "code",
   "execution_count": 6,
   "id": "fee363b5",
   "metadata": {},
   "outputs": [],
   "source": [
    "def P_BinomialDist(N, X, theta):\n",
    "    prob = n_combn_r(N, X) * (theta**X) * ((1.0 - theta)**(N - X))\n",
    "    \n",
    "    return prob"
   ]
  },
  {
   "cell_type": "markdown",
   "id": "e8e7adad",
   "metadata": {},
   "source": [
    "#### Test it with a specific choice of `N`, `x` and parameter ($\\theta$)"
   ]
  },
  {
   "cell_type": "code",
   "execution_count": 7,
   "id": "88cdadf5",
   "metadata": {},
   "outputs": [],
   "source": [
    "N, X = 5, 2"
   ]
  },
  {
   "cell_type": "code",
   "execution_count": 8,
   "id": "e3c167c5",
   "metadata": {},
   "outputs": [
    {
     "data": {
      "text/plain": [
       "0.3456"
      ]
     },
     "execution_count": 8,
     "metadata": {},
     "output_type": "execute_result"
    }
   ],
   "source": [
    "theta = (X/N)\n",
    "P_BinomialDist(N, X, theta)"
   ]
  },
  {
   "cell_type": "code",
   "execution_count": 9,
   "id": "6150e448",
   "metadata": {},
   "outputs": [],
   "source": [
    "# save it as the true value\n",
    "theta_true = theta"
   ]
  },
  {
   "cell_type": "markdown",
   "id": "fa717622",
   "metadata": {},
   "source": [
    "### Define the set of all hypotheses ($H_i$)"
   ]
  },
  {
   "cell_type": "code",
   "execution_count": 10,
   "id": "df06f253",
   "metadata": {},
   "outputs": [
    {
     "name": "stdout",
     "output_type": "stream",
     "text": [
      "[0.   0.01 0.02 0.03 0.04 0.05 0.06 0.07 0.08 0.09 0.1  0.11 0.12 0.13\n",
      " 0.14 0.15 0.16 0.17 0.18 0.19 0.2  0.21 0.22 0.23 0.24 0.25 0.26 0.27\n",
      " 0.28 0.29 0.3  0.31 0.32 0.33 0.34 0.35 0.36 0.37 0.38 0.39 0.4  0.41\n",
      " 0.42 0.43 0.44 0.45 0.46 0.47 0.48 0.49 0.5  0.51 0.52 0.53 0.54 0.55\n",
      " 0.56 0.57 0.58 0.59 0.6  0.61 0.62 0.63 0.64 0.65 0.66 0.67 0.68 0.69\n",
      " 0.7  0.71 0.72 0.73 0.74 0.75 0.76 0.77 0.78 0.79 0.8  0.81 0.82 0.83\n",
      " 0.84 0.85 0.86 0.87 0.88 0.89 0.9  0.91 0.92 0.93 0.94 0.95 0.96 0.97\n",
      " 0.98 0.99 1.  ]\n"
     ]
    }
   ],
   "source": [
    "num_pts = 101    # (change this!)\n",
    "theta_arr = np.linspace(0.0, 1.0, num_pts)    # uniform prior distribution\n",
    "print (theta_arr)"
   ]
  },
  {
   "cell_type": "markdown",
   "id": "9bf0892c",
   "metadata": {},
   "source": [
    "### Define prior values for all the hypotheses ($P(\\theta)$)"
   ]
  },
  {
   "cell_type": "code",
   "execution_count": 11,
   "id": "0419687b",
   "metadata": {},
   "outputs": [
    {
     "name": "stdout",
     "output_type": "stream",
     "text": [
      "prior_arr : [0.00990099 0.00990099 0.00990099 0.00990099 0.00990099 0.00990099\n",
      " 0.00990099 0.00990099 0.00990099 0.00990099 0.00990099 0.00990099\n",
      " 0.00990099 0.00990099 0.00990099 0.00990099 0.00990099 0.00990099\n",
      " 0.00990099 0.00990099 0.00990099 0.00990099 0.00990099 0.00990099\n",
      " 0.00990099 0.00990099 0.00990099 0.00990099 0.00990099 0.00990099\n",
      " 0.00990099 0.00990099 0.00990099 0.00990099 0.00990099 0.00990099\n",
      " 0.00990099 0.00990099 0.00990099 0.00990099 0.00990099 0.00990099\n",
      " 0.00990099 0.00990099 0.00990099 0.00990099 0.00990099 0.00990099\n",
      " 0.00990099 0.00990099 0.00990099 0.00990099 0.00990099 0.00990099\n",
      " 0.00990099 0.00990099 0.00990099 0.00990099 0.00990099 0.00990099\n",
      " 0.00990099 0.00990099 0.00990099 0.00990099 0.00990099 0.00990099\n",
      " 0.00990099 0.00990099 0.00990099 0.00990099 0.00990099 0.00990099\n",
      " 0.00990099 0.00990099 0.00990099 0.00990099 0.00990099 0.00990099\n",
      " 0.00990099 0.00990099 0.00990099 0.00990099 0.00990099 0.00990099\n",
      " 0.00990099 0.00990099 0.00990099 0.00990099 0.00990099 0.00990099\n",
      " 0.00990099 0.00990099 0.00990099 0.00990099 0.00990099 0.00990099\n",
      " 0.00990099 0.00990099 0.00990099 0.00990099 0.00990099]\n"
     ]
    }
   ],
   "source": [
    "prior_arr = np.zeros_like(theta_arr) + (1.0/len(theta_arr))\n",
    "print ('prior_arr :', prior_arr)"
   ]
  },
  {
   "cell_type": "markdown",
   "id": "1e9da9fd",
   "metadata": {},
   "source": [
    "#### check the sum of all prior values"
   ]
  },
  {
   "cell_type": "code",
   "execution_count": 12,
   "id": "40616cc6",
   "metadata": {},
   "outputs": [
    {
     "name": "stdout",
     "output_type": "stream",
     "text": [
      "sum of all the prior values = 0.9999999999999999\n"
     ]
    }
   ],
   "source": [
    "sum_prior = np.sum(prior_arr)\n",
    "print ('sum of all the prior values =', sum_prior)"
   ]
  },
  {
   "cell_type": "markdown",
   "id": "8c3f5641",
   "metadata": {},
   "source": [
    "#### plot the prior distribution"
   ]
  },
  {
   "cell_type": "code",
   "execution_count": 13,
   "id": "0571bc8b",
   "metadata": {},
   "outputs": [
    {
     "data": {
      "text/plain": [
       "Text(0, 0.5, '$P(\\\\theta)$')"
      ]
     },
     "execution_count": 13,
     "metadata": {},
     "output_type": "execute_result"
    },
    {
     "data": {
      "image/png": "[encoded data removed]",
      "text/plain": [
       "<Figure size 432x288 with 1 Axes>"
      ]
     },
     "metadata": {
      "needs_background": "light"
     },
     "output_type": "display_data"
    }
   ],
   "source": [
    "plt.plot(theta_arr, prior_arr, 'ko')\n",
    "plt.xlabel(r'$\\theta$', fontsize=16)\n",
    "plt.ylabel(r'$P(\\theta)$', fontsize=16)"
   ]
  },
  {
   "cell_type": "markdown",
   "id": "5c927494",
   "metadata": {},
   "source": [
    "### Define likelihood for all the hypotheses ($P(D | \\theta)$)"
   ]
  },
  {
   "cell_type": "code",
   "execution_count": 14,
   "id": "5e6920b5",
   "metadata": {},
   "outputs": [
    {
     "name": "stdout",
     "output_type": "stream",
     "text": [
      "likelihood_arr: [0.00000000e+00 9.70299000e-04 3.76476800e-03 8.21405700e-03\n",
      " 1.41557760e-02 2.14343750e-02 2.99010240e-02 3.94134930e-02\n",
      " 4.98360320e-02 6.10392510e-02 7.29000000e-02 8.53012490e-02\n",
      " 9.81319680e-02 1.11287007e-01 1.24666976e-01 1.38178125e-01\n",
      " 1.51732224e-01 1.65246443e-01 1.78643232e-01 1.91850201e-01\n",
      " 2.04800000e-01 2.17430199e-01 2.29683168e-01 2.41505957e-01\n",
      " 2.52850176e-01 2.63671875e-01 2.73931424e-01 2.83593393e-01\n",
      " 2.92626432e-01 3.01003151e-01 3.08700000e-01 3.15697149e-01\n",
      " 3.21978368e-01 3.27530907e-01 3.32345376e-01 3.36415625e-01\n",
      " 3.39738624e-01 3.42314343e-01 3.44145632e-01 3.45238101e-01\n",
      " 3.45600000e-01 3.45242099e-01 3.44177568e-01 3.42421857e-01\n",
      " 3.39992576e-01 3.36909375e-01 3.33193824e-01 3.28869293e-01\n",
      " 3.23960832e-01 3.18495051e-01 3.12500000e-01 3.06005049e-01\n",
      " 2.99040768e-01 2.91638807e-01 2.83831776e-01 2.75653125e-01\n",
      " 2.67137024e-01 2.58318243e-01 2.49232032e-01 2.39914001e-01\n",
      " 2.30400000e-01 2.20725999e-01 2.10927968e-01 2.01041757e-01\n",
      " 1.91102976e-01 1.81146875e-01 1.71208224e-01 1.61321193e-01\n",
      " 1.51519232e-01 1.41834951e-01 1.32300000e-01 1.22944949e-01\n",
      " 1.13799168e-01 1.04890707e-01 9.62461760e-02 8.78906250e-02\n",
      " 7.98474240e-02 7.21381430e-02 6.47824320e-02 5.77979010e-02\n",
      " 5.12000000e-02 4.50018990e-02 3.92143680e-02 3.38456570e-02\n",
      " 2.89013760e-02 2.43843750e-02 2.02946240e-02 1.66290930e-02\n",
      " 1.33816320e-02 1.05428510e-02 8.10000000e-03 6.03684900e-03\n",
      " 4.33356800e-03 2.96660700e-03 1.90857600e-03 1.12812500e-03\n",
      " 5.89824000e-04 2.54043000e-04 7.68320000e-05 9.80100000e-06\n",
      " 0.00000000e+00]\n"
     ]
    }
   ],
   "source": [
    "likelihood_arr = np.zeros_like(theta_arr)    # initialize\n",
    "i = 0\n",
    "for theta in theta_arr:\n",
    "    likelihood_arr[i] = P_BinomialDist(N, X, theta)\n",
    "    i += 1\n",
    "    \n",
    "print ('likelihood_arr:', likelihood_arr)"
   ]
  },
  {
   "cell_type": "markdown",
   "id": "06f4a2c2",
   "metadata": {},
   "source": [
    "#### check the sum of all likelihood values"
   ]
  },
  {
   "cell_type": "code",
   "execution_count": 15,
   "id": "357a209c",
   "metadata": {},
   "outputs": [
    {
     "name": "stdout",
     "output_type": "stream",
     "text": [
      "sum of all the likelihood values = 16.666666500000005\n"
     ]
    }
   ],
   "source": [
    "sum_likelihood = np.sum(likelihood_arr)\n",
    "print ('sum of all the likelihood values =', sum_likelihood)"
   ]
  },
  {
   "cell_type": "markdown",
   "id": "9c12d429",
   "metadata": {},
   "source": [
    "#### plot the likelihood distribution"
   ]
  },
  {
   "cell_type": "code",
   "execution_count": 16,
   "id": "0d3eeedd",
   "metadata": {},
   "outputs": [
    {
     "data": {
      "text/plain": [
       "Text(0, 0.5, '$P(D | \\\\theta)$')"
      ]
     },
     "execution_count": 16,
     "metadata": {},
     "output_type": "execute_result"
    },
    {
     "data": {
      "image/png": "[encoded data removed]",
      "text/plain": [
       "<Figure size 432x288 with 1 Axes>"
      ]
     },
     "metadata": {
      "needs_background": "light"
     },
     "output_type": "display_data"
    }
   ],
   "source": [
    "plt.plot(theta_arr, likelihood_arr, 'ro')\n",
    "plt.xlabel(r'$\\theta$', fontsize=16)\n",
    "plt.ylabel(r'$P(D | \\theta)$', fontsize=16)"
   ]
  },
  {
   "cell_type": "code",
   "execution_count": 17,
   "id": "d75e8c82",
   "metadata": {},
   "outputs": [
    {
     "name": "stdout",
     "output_type": "stream",
     "text": [
      "sum of all the likelihood values = 16.666666500000005\n"
     ]
    }
   ],
   "source": [
    "sum_likelihood = np.sum(likelihood_arr)\n",
    "print ('sum of all the likelihood values =', sum_likelihood)"
   ]
  },
  {
   "cell_type": "markdown",
   "id": "4757d278",
   "metadata": {},
   "source": [
    "### Define unnormalized posterior values ($h_i$) for all the hypotheses ($P(D | \\theta)$)"
   ]
  },
  {
   "cell_type": "code",
   "execution_count": 18,
   "id": "42ec564c",
   "metadata": {},
   "outputs": [
    {
     "name": "stdout",
     "output_type": "stream",
     "text": [
      "Array of unnormalized posterior values (h_i) : [0.00000000e+00 9.60692079e-06 3.72749307e-05 8.13272970e-05\n",
      " 1.40156198e-04 2.12221535e-04 2.96049743e-04 3.90232604e-04\n",
      " 4.93426059e-04 6.04349020e-04 7.21782178e-04 8.44566822e-04\n",
      " 9.71603644e-04 1.10185155e-03 1.23432650e-03 1.36810025e-03\n",
      " 1.50229925e-03 1.63610340e-03 1.76874487e-03 1.89950694e-03\n",
      " 2.02772277e-03 2.15277425e-03 2.27409077e-03 2.39114809e-03\n",
      " 2.50346709e-03 2.61061262e-03 2.71219232e-03 2.80785538e-03\n",
      " 2.89729141e-03 2.98022922e-03 3.05643564e-03 3.12571435e-03\n",
      " 3.18790463e-03 3.24288027e-03 3.29054828e-03 3.33084777e-03\n",
      " 3.36374875e-03 3.38925092e-03 3.40738250e-03 3.41819902e-03\n",
      " 3.42178218e-03 3.41823860e-03 3.40769869e-03 3.39031542e-03\n",
      " 3.36626313e-03 3.33573639e-03 3.29894875e-03 3.25613161e-03\n",
      " 3.20753299e-03 3.15341635e-03 3.09405941e-03 3.02975296e-03\n",
      " 2.96079968e-03 2.88751294e-03 2.81021560e-03 2.72923886e-03\n",
      " 2.64492103e-03 2.55760637e-03 2.46764388e-03 2.37538615e-03\n",
      " 2.28118812e-03 2.18540593e-03 2.08839572e-03 1.99051245e-03\n",
      " 1.89210867e-03 1.79353342e-03 1.69513093e-03 1.59723953e-03\n",
      " 1.50019042e-03 1.40430645e-03 1.30990099e-03 1.21727672e-03\n",
      " 1.12672444e-03 1.03852185e-03 9.52932436e-04 8.70204208e-04\n",
      " 7.90568554e-04 7.14239040e-04 6.41410218e-04 5.72256446e-04\n",
      " 5.06930693e-04 4.45563356e-04 3.88261069e-04 3.35105515e-04\n",
      " 2.86152238e-04 2.41429455e-04 2.00936871e-04 1.64644485e-04\n",
      " 1.32491406e-04 1.04384663e-04 8.01980198e-05 5.97707822e-05\n",
      " 4.29066139e-05 2.93723465e-05 1.88967921e-05 1.11695545e-05\n",
      " 5.83984158e-06 2.51527723e-06 7.60712871e-07 9.70396040e-08\n",
      " 0.00000000e+00]\n"
     ]
    }
   ],
   "source": [
    "h_arr = (prior_arr * likelihood_arr)\n",
    "print ('Array of unnormalized posterior values (h_i) :', h_arr)"
   ]
  },
  {
   "cell_type": "markdown",
   "id": "e6cb6057",
   "metadata": {},
   "source": [
    "#### check the sum of all unnormalized posterior ($h_i = h(\\theta)$) values"
   ]
  },
  {
   "cell_type": "code",
   "execution_count": 19,
   "id": "df8c5e3f",
   "metadata": {},
   "outputs": [
    {
     "name": "stdout",
     "output_type": "stream",
     "text": [
      "sum of all the unnormalized posterior values = 0.1650165\n"
     ]
    }
   ],
   "source": [
    "sum_h = np.sum(h_arr)\n",
    "print ('sum of all the unnormalized posterior values =', sum_h)"
   ]
  },
  {
   "cell_type": "markdown",
   "id": "332e5d9c",
   "metadata": {},
   "source": [
    "#### plot the unnormalized posterior ($h_i = h(\\theta)$) distribution"
   ]
  },
  {
   "cell_type": "code",
   "execution_count": 20,
   "id": "fad9bba9",
   "metadata": {},
   "outputs": [
    {
     "data": {
      "text/plain": [
       "Text(0, 0.5, '$h_i = h(\\\\theta)$')"
      ]
     },
     "execution_count": 20,
     "metadata": {},
     "output_type": "execute_result"
    },
    {
     "data": {
      "image/png": "[encoded data removed]",
      "text/plain": [
       "<Figure size 432x288 with 1 Axes>"
      ]
     },
     "metadata": {
      "needs_background": "light"
     },
     "output_type": "display_data"
    }
   ],
   "source": [
    "plt.plot(theta_arr, h_arr, 'go')\n",
    "plt.xlabel(r'$\\theta$', fontsize=16)\n",
    "plt.ylabel(r'$h_i = h(\\theta)$', fontsize=16)"
   ]
  },
  {
   "cell_type": "markdown",
   "id": "ada4f9a5",
   "metadata": {},
   "source": [
    "### Define posterior values ($P(\\theta | D)$) for all the hypotheses"
   ]
  },
  {
   "cell_type": "code",
   "execution_count": 21,
   "id": "46e196bd",
   "metadata": {},
   "outputs": [
    {
     "name": "stdout",
     "output_type": "stream",
     "text": [
      "array of posterior values : [0.00000000e+00 5.82179406e-05 2.25886082e-04 4.92843425e-04\n",
      " 8.49346568e-04 1.28606251e-03 1.79406146e-03 2.36480960e-03\n",
      " 2.99016195e-03 3.66235510e-03 4.37400004e-03 5.11807499e-03\n",
      " 5.88791814e-03 6.67722049e-03 7.48001863e-03 8.29068758e-03\n",
      " 9.10393353e-03 9.91478668e-03 1.07185940e-02 1.15110122e-02\n",
      " 1.22880001e-02 1.30458121e-02 1.37809902e-02 1.44903576e-02\n",
      " 1.51710107e-02 1.58203127e-02 1.64358856e-02 1.70156038e-02\n",
      " 1.75575861e-02 1.80601892e-02 1.85220002e-02 1.89418291e-02\n",
      " 1.93187023e-02 1.96518546e-02 1.99407228e-02 2.01849377e-02\n",
      " 2.03843176e-02 2.05388608e-02 2.06487381e-02 2.07142863e-02\n",
      " 2.07360002e-02 2.07145261e-02 2.06506543e-02 2.05453116e-02\n",
      " 2.03995548e-02 2.02145627e-02 1.99916296e-02 1.97321578e-02\n",
      " 1.94376501e-02 1.91097033e-02 1.87500002e-02 1.83603031e-02\n",
      " 1.79424463e-02 1.74983286e-02 1.70299067e-02 1.65391877e-02\n",
      " 1.60282216e-02 1.54990947e-02 1.49539221e-02 1.43948402e-02\n",
      " 1.38240001e-02 1.32435601e-02 1.26556782e-02 1.20625055e-02\n",
      " 1.14661787e-02 1.08688126e-02 1.02724935e-02 9.67927168e-03\n",
      " 9.09115401e-03 8.51009715e-03 7.93800008e-03 7.37669701e-03\n",
      " 6.82795015e-03 6.29344248e-03 5.77477062e-03 5.27343755e-03\n",
      " 4.79084549e-03 4.32828862e-03 3.88694596e-03 3.46787409e-03\n",
      " 3.07200003e-03 2.70011397e-03 2.35286210e-03 2.03073944e-03\n",
      " 1.73408258e-03 1.46306251e-03 1.21767745e-03 9.97745590e-04\n",
      " 8.02897928e-04 6.32571066e-04 4.86000005e-04 3.62210944e-04\n",
      " 2.60014083e-04 1.77996422e-04 1.14514561e-04 6.76875007e-05\n",
      " 3.53894404e-05 1.52425802e-05 4.60992005e-06 5.88060006e-07\n",
      " 0.00000000e+00]\n"
     ]
    }
   ],
   "source": [
    "posterior_arr = (h_arr/sum_h)\n",
    "print ('array of posterior values :', posterior_arr)"
   ]
  },
  {
   "cell_type": "markdown",
   "id": "e8818cee",
   "metadata": {},
   "source": [
    "#### check the sum of all posterior values ($P(\\theta | D)$) for all the hypotheses"
   ]
  },
  {
   "cell_type": "code",
   "execution_count": 22,
   "id": "b5b4d807",
   "metadata": {},
   "outputs": [
    {
     "name": "stdout",
     "output_type": "stream",
     "text": [
      "sum of all the posterior values = 1.0\n"
     ]
    }
   ],
   "source": [
    "sum_posterior = np.sum(posterior_arr)\n",
    "print ('sum of all the posterior values =', sum_posterior)"
   ]
  },
  {
   "cell_type": "markdown",
   "id": "13fab340",
   "metadata": {},
   "source": [
    "#### plot the posterior ($P(\\theta | D)$) distribution"
   ]
  },
  {
   "cell_type": "code",
   "execution_count": 23,
   "id": "7f007656",
   "metadata": {},
   "outputs": [
    {
     "data": {
      "text/plain": [
       "<matplotlib.legend.Legend at 0x7f8ff6fb3850>"
      ]
     },
     "execution_count": 23,
     "metadata": {},
     "output_type": "execute_result"
    },
    {
     "data": {
      "image/png": "[encoded data removed]",
      "text/plain": [
       "<Figure size 432x288 with 1 Axes>"
      ]
     },
     "metadata": {
      "needs_background": "light"
     },
     "output_type": "display_data"
    }
   ],
   "source": [
    "plt.plot(theta_arr, posterior_arr, 'o')\n",
    "plt.axvline(x = theta_true, color='k', label='True value')\n",
    "plt.xlabel(r'$\\theta$', fontsize=16)\n",
    "plt.ylabel(r'$P(\\theta | D)$', fontsize=16)\n",
    "plt.legend()"
   ]
  },
  {
   "cell_type": "markdown",
   "id": "0de4c8b6",
   "metadata": {},
   "source": [
    "### Check the data used for this problem: \n",
    "#### `N` : Number of trials, `X` : number of correct outcomes"
   ]
  },
  {
   "cell_type": "code",
   "execution_count": 24,
   "id": "58339f07",
   "metadata": {},
   "outputs": [
    {
     "name": "stdout",
     "output_type": "stream",
     "text": [
      "Number of trials (N) = 5, and number of correct outcomes (X) = 2 .\n"
     ]
    }
   ],
   "source": [
    "print ('Number of trials (N) = %d, and number of correct outcomes (X) = %d .'%(N, X))"
   ]
  },
  {
   "cell_type": "code",
   "execution_count": null,
   "id": "a4740143",
   "metadata": {},
   "outputs": [],
   "source": []
  }
 ],
 "metadata": {
  "kernelspec": {
   "display_name": "Python [conda env:root] *",
   "language": "python",
   "name": "conda-root-py"
  },
  "language_info": {
   "codemirror_mode": {
    "name": "ipython",
    "version": 3
   },
   "file_extension": ".py",
   "mimetype": "text/x-python",
   "name": "python",
   "nbconvert_exporter": "python",
   "pygments_lexer": "ipython3",
   "version": "3.9.7"
  }
 },
 "nbformat": 4,
 "nbformat_minor": 5
}
